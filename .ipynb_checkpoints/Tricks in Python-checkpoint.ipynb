{
 "cells": [
  {
   "cell_type": "markdown",
   "metadata": {},
   "source": [
    "# Insert a variable into a string"
   ]
  },
  {
   "cell_type": "code",
   "execution_count": 5,
   "metadata": {},
   "outputs": [],
   "source": [
    "i = 5\n",
    "m = [4,5,6]\n",
    "j = {\"j\":5,\"c\":8}"
   ]
  },
  {
   "cell_type": "markdown",
   "metadata": {},
   "source": [
    "Just trying to insert a variable with a + sign fail if the variable is not a string"
   ]
  },
  {
   "cell_type": "code",
   "execution_count": 3,
   "metadata": {},
   "outputs": [
    {
     "ename": "TypeError",
     "evalue": "can only concatenate str (not \"int\") to str",
     "output_type": "error",
     "traceback": [
      "\u001b[0;31m---------------------------------------------------------------------------\u001b[0m",
      "\u001b[0;31mTypeError\u001b[0m                                 Traceback (most recent call last)",
      "\u001b[0;32m<ipython-input-3-9aeb6b7d9c42>\u001b[0m in \u001b[0;36m<module>\u001b[0;34m\u001b[0m\n\u001b[0;32m----> 1\u001b[0;31m \u001b[0mprint\u001b[0m\u001b[0;34m(\u001b[0m\u001b[0;34m\"i:\"\u001b[0m\u001b[0;34m+\u001b[0m\u001b[0mi\u001b[0m\u001b[0;34m+\u001b[0m\u001b[0;34m\" m:\"\u001b[0m\u001b[0;34m+\u001b[0m\u001b[0mm\u001b[0m\u001b[0;34m+\u001b[0m\u001b[0;34m\" j:\"\u001b[0m\u001b[0;34m+\u001b[0m\u001b[0mj\u001b[0m\u001b[0;34m)\u001b[0m\u001b[0;34m\u001b[0m\u001b[0;34m\u001b[0m\u001b[0m\n\u001b[0m",
      "\u001b[0;31mTypeError\u001b[0m: can only concatenate str (not \"int\") to str"
     ]
    }
   ],
   "source": [
    "print(\"i:\"+i+\" m:\"+m+\" j:\"+j)"
   ]
  },
  {
   "cell_type": "markdown",
   "metadata": {},
   "source": [
    "The basic low tier solution is to just convert each var to string. This is very bad looking and error prone though."
   ]
  },
  {
   "cell_type": "code",
   "execution_count": 7,
   "metadata": {},
   "outputs": [
    {
     "name": "stdout",
     "output_type": "stream",
     "text": [
      "i:5 m:[4, 5, 6] j:{'j': 5, 'c': 8}\n"
     ]
    }
   ],
   "source": [
    "print(\"i:\"+str(i)+\" m:\"+str(m)+\" j:\"+str(j))"
   ]
  },
  {
   "cell_type": "markdown",
   "metadata": {},
   "source": [
    "Much nicer are f-strings"
   ]
  },
  {
   "cell_type": "code",
   "execution_count": 8,
   "metadata": {},
   "outputs": [
    {
     "name": "stdout",
     "output_type": "stream",
     "text": [
      "i: 5 m:[4, 5, 6] j:{'j': 5, 'c': 8}\n"
     ]
    }
   ],
   "source": [
    "print(f\"i: {i} m:{m} j:{j}\")"
   ]
  },
  {
   "cell_type": "markdown",
   "metadata": {},
   "source": [
    "When inserting different vars into the same string, use format"
   ]
  },
  {
   "cell_type": "code",
   "execution_count": 9,
   "metadata": {},
   "outputs": [
    {
     "name": "stdout",
     "output_type": "stream",
     "text": [
      "my_favorite_var is 5\n",
      "my_favorite_var is [4, 5, 6]\n"
     ]
    }
   ],
   "source": [
    "some_str = \"my_favorite_var is {}\"\n",
    "print(some_str.format(i))\n",
    "print(some_str.format(m))"
   ]
  },
  {
   "cell_type": "markdown",
   "metadata": {},
   "source": [
    "# Deleting multiple elements with specific properties from list"
   ]
  },
  {
   "cell_type": "markdown",
   "metadata": {},
   "source": [
    "let's say we wan't to delete every element from a list divisible by 3. A common way to go wrong is like so:"
   ]
  },
  {
   "cell_type": "code",
   "execution_count": 13,
   "metadata": {},
   "outputs": [
    {
     "ename": "IndexError",
     "evalue": "list index out of range",
     "output_type": "error",
     "traceback": [
      "\u001b[0;31m---------------------------------------------------------------------------\u001b[0m",
      "\u001b[0;31mIndexError\u001b[0m                                Traceback (most recent call last)",
      "\u001b[0;32m<ipython-input-13-5ad81f15cad2>\u001b[0m in \u001b[0;36m<module>\u001b[0;34m\u001b[0m\n\u001b[1;32m      1\u001b[0m \u001b[0mmy_list\u001b[0m\u001b[0;34m=\u001b[0m\u001b[0;34m[\u001b[0m\u001b[0;36m5\u001b[0m\u001b[0;34m,\u001b[0m\u001b[0;36m7\u001b[0m\u001b[0;34m,\u001b[0m\u001b[0;36m12\u001b[0m\u001b[0;34m,\u001b[0m\u001b[0;36m15\u001b[0m\u001b[0;34m,\u001b[0m\u001b[0;36m24\u001b[0m\u001b[0;34m,\u001b[0m\u001b[0;36m18\u001b[0m\u001b[0;34m,\u001b[0m\u001b[0;36m14\u001b[0m\u001b[0;34m]\u001b[0m\u001b[0;34m\u001b[0m\u001b[0;34m\u001b[0m\u001b[0m\n\u001b[1;32m      2\u001b[0m \u001b[0;32mfor\u001b[0m \u001b[0mi\u001b[0m \u001b[0;32min\u001b[0m \u001b[0mrange\u001b[0m\u001b[0;34m(\u001b[0m\u001b[0mlen\u001b[0m\u001b[0;34m(\u001b[0m\u001b[0mmy_list\u001b[0m\u001b[0;34m)\u001b[0m\u001b[0;34m)\u001b[0m\u001b[0;34m:\u001b[0m\u001b[0;34m\u001b[0m\u001b[0;34m\u001b[0m\u001b[0m\n\u001b[0;32m----> 3\u001b[0;31m     \u001b[0;32mif\u001b[0m \u001b[0mmy_list\u001b[0m\u001b[0;34m[\u001b[0m\u001b[0mi\u001b[0m\u001b[0;34m]\u001b[0m\u001b[0;34m%\u001b[0m\u001b[0;36m3\u001b[0m\u001b[0;34m==\u001b[0m\u001b[0;36m0\u001b[0m\u001b[0;34m:\u001b[0m\u001b[0;34m\u001b[0m\u001b[0;34m\u001b[0m\u001b[0m\n\u001b[0m\u001b[1;32m      4\u001b[0m         \u001b[0;32mdel\u001b[0m \u001b[0mmy_list\u001b[0m\u001b[0;34m[\u001b[0m\u001b[0mi\u001b[0m\u001b[0;34m]\u001b[0m\u001b[0;34m\u001b[0m\u001b[0;34m\u001b[0m\u001b[0m\n",
      "\u001b[0;31mIndexError\u001b[0m: list index out of range"
     ]
    }
   ],
   "source": [
    "my_list=[5,7,12,15,24,18,14]\n",
    "for i in range(len(my_list)):\n",
    "    if my_list[i]%3==0:\n",
    "        del my_list[i]"
   ]
  },
  {
   "cell_type": "markdown",
   "metadata": {},
   "source": [
    "We shortened the list while iterating over it and `len(my_list)` is only evaluated at the start of the loop, so we run out of range."
   ]
  },
  {
   "cell_type": "markdown",
   "metadata": {},
   "source": [
    "The obvious correct way to do it in this simle case is to use filter"
   ]
  },
  {
   "cell_type": "code",
   "execution_count": 35,
   "metadata": {},
   "outputs": [
    {
     "name": "stdout",
     "output_type": "stream",
     "text": [
      "[5, 7, 14]\n"
     ]
    }
   ],
   "source": [
    "my_list=[5,7,12,15,24,18,14]\n",
    "no_3_divisors = list(filter(lambda x:x%3!=0,my_list))\n",
    "print(no_3_divisors)"
   ]
  },
  {
   "cell_type": "markdown",
   "metadata": {},
   "source": [
    "If we wan't to instead just remove duplicates from a list and don't care about the sequence we can do"
   ]
  },
  {
   "cell_type": "code",
   "execution_count": 44,
   "metadata": {},
   "outputs": [
    {
     "name": "stdout",
     "output_type": "stream",
     "text": [
      "[1, 3, 4, 6, 7, 8]\n"
     ]
    }
   ],
   "source": [
    "my_list = [3,6,7,7,4,3,8,1,6]\n",
    "print(list(set(my_list)))"
   ]
  },
  {
   "cell_type": "markdown",
   "metadata": {},
   "source": [
    "Sometimes, we might be in a more rough position that can't be solved that easily just using these methods. If we wan't to delete duplicates and do care about sequence or if we have 2 lists with aligned indicies and we wan't to remove elements with index 3 and still keep the index alignment, we can be tricky and iterate backwards over the list."
   ]
  },
  {
   "cell_type": "code",
   "execution_count": 19,
   "metadata": {},
   "outputs": [
    {
     "name": "stdout",
     "output_type": "stream",
     "text": [
      "['n5', 'n7', 'n14'] [5, 7, 14]\n"
     ]
    }
   ],
   "source": [
    "element_names = [\"n5\",\"n7\",\"n12\",\"n15\",\"n24\",\"n18\",\"n14\"]\n",
    "my_list=[5,7,12,15,24,18,14]\n",
    "for i in range(len(my_list)-1,-1,-1):\n",
    "    if my_list[i]%3==0:\n",
    "        del my_list[i]\n",
    "        del element_names[i]\n",
    "print(element_names,my_list)"
   ]
  },
  {
   "cell_type": "markdown",
   "metadata": {},
   "source": [
    "# Smart ways to iterate with for loops"
   ]
  },
  {
   "cell_type": "markdown",
   "metadata": {},
   "source": [
    "Iterate over 2d list and get all elements back"
   ]
  },
  {
   "cell_type": "code",
   "execution_count": 25,
   "metadata": {},
   "outputs": [
    {
     "name": "stdout",
     "output_type": "stream",
     "text": [
      "3 5 7\n",
      "19 4 3\n",
      "40 13 11\n"
     ]
    }
   ],
   "source": [
    "my_list = [[3,5,7],[19,4,3],[40,13,11]]\n",
    "for x,y,z in my_list:\n",
    "    print(x,y,z)"
   ]
  },
  {
   "cell_type": "markdown",
   "metadata": {},
   "source": [
    "get both element and index of element"
   ]
  },
  {
   "cell_type": "code",
   "execution_count": 27,
   "metadata": {},
   "outputs": [
    {
     "name": "stdout",
     "output_type": "stream",
     "text": [
      "0 a\n",
      "1 b\n",
      "2 c\n"
     ]
    }
   ],
   "source": [
    "my_list = [\"a\",\"b\",\"c\"]\n",
    "for i,elem in enumerate(my_list):\n",
    "    print(i,elem)"
   ]
  },
  {
   "cell_type": "markdown",
   "metadata": {},
   "source": [
    "Iterate list elements in reversed order"
   ]
  },
  {
   "cell_type": "code",
   "execution_count": 29,
   "metadata": {},
   "outputs": [
    {
     "name": "stdout",
     "output_type": "stream",
     "text": [
      "c\n",
      "b\n",
      "a\n"
     ]
    }
   ],
   "source": [
    "my_list = [\"a\",\"b\",\"c\"]\n",
    "for elem in reversed(my_list):\n",
    "    print(elem)"
   ]
  },
  {
   "cell_type": "markdown",
   "metadata": {},
   "source": [
    "Iterate over key and value of dictionary directly"
   ]
  },
  {
   "cell_type": "code",
   "execution_count": 32,
   "metadata": {},
   "outputs": [
    {
     "name": "stdout",
     "output_type": "stream",
     "text": [
      "blub 4\n",
      "x 8\n",
      "t 9\n"
     ]
    }
   ],
   "source": [
    "my_dict = {\"blub\":4,\"x\":8,\"t\":9}\n",
    "for key,value in my_dict.items():\n",
    "    print(key,value)"
   ]
  },
  {
   "cell_type": "markdown",
   "metadata": {},
   "source": [
    "An important think to remember is, that in python you can't only iterate over lists, but over all so called iterables. These include for example strings,tuples,sets,dictionarys and many more."
   ]
  },
  {
   "cell_type": "code",
   "execution_count": 34,
   "metadata": {},
   "outputs": [
    {
     "name": "stdout",
     "output_type": "stream",
     "text": [
      "h\n",
      "e\n",
      "l\n",
      "l\n",
      "o\n"
     ]
    }
   ],
   "source": [
    "for letter in \"hello\":\n",
    "    print(letter)"
   ]
  },
  {
   "cell_type": "markdown",
   "metadata": {},
   "source": [
    "# List comprehensions are awesome"
   ]
  },
  {
   "cell_type": "markdown",
   "metadata": {},
   "source": [
    "Create complicated lists so efficiently, you will never have to use map again."
   ]
  },
  {
   "cell_type": "code",
   "execution_count": 16,
   "metadata": {},
   "outputs": [
    {
     "data": {
      "text/plain": [
       "[1, 2, 4, 8, 16, 32, 64, 128, 256, 512, 1024]"
      ]
     },
     "execution_count": 16,
     "metadata": {},
     "output_type": "execute_result"
    }
   ],
   "source": [
    "first_list = [2**i for i in range(11)]\n",
    "first_list"
   ]
  },
  {
   "cell_type": "markdown",
   "metadata": {},
   "source": [
    "If you don't care too much about \"clean\" code, there is nothing wrong with using multiple list comprehensions to create amazing 2d list in one line"
   ]
  },
  {
   "cell_type": "code",
   "execution_count": 17,
   "metadata": {},
   "outputs": [
    {
     "data": {
      "text/plain": [
       "[[1024, 512, 256, 128, 64, 32, 16, 8, 4, 2, 1],\n",
       " [2048, 1024, 512, 256, 128, 64, 32, 16, 8, 4, 2],\n",
       " [4096, 2048, 1024, 512, 256, 128, 64, 32, 16, 8, 4],\n",
       " [8192, 4096, 2048, 1024, 512, 256, 128, 64, 32, 16, 8],\n",
       " [16384, 8192, 4096, 2048, 1024, 512, 256, 128, 64, 32, 16],\n",
       " [32768, 16384, 8192, 4096, 2048, 1024, 512, 256, 128, 64, 32],\n",
       " [65536, 32768, 16384, 8192, 4096, 2048, 1024, 512, 256, 128, 64],\n",
       " [131072, 65536, 32768, 16384, 8192, 4096, 2048, 1024, 512, 256, 128],\n",
       " [262144, 131072, 65536, 32768, 16384, 8192, 4096, 2048, 1024, 512, 256],\n",
       " [524288, 262144, 131072, 65536, 32768, 16384, 8192, 4096, 2048, 1024, 512],\n",
       " [1048576,\n",
       "  524288,\n",
       "  262144,\n",
       "  131072,\n",
       "  65536,\n",
       "  32768,\n",
       "  16384,\n",
       "  8192,\n",
       "  4096,\n",
       "  2048,\n",
       "  1024]]"
      ]
     },
     "execution_count": 17,
     "metadata": {},
     "output_type": "execute_result"
    }
   ],
   "source": [
    "list_2d = [[i*j for j in reversed(first_list)] for i in first_list]\n",
    "list_2d"
   ]
  },
  {
   "cell_type": "markdown",
   "metadata": {},
   "source": [
    "When writing runtime efficient code it is actually important to notice that list comprehensions can be up to twice as fast as normal for loops"
   ]
  },
  {
   "cell_type": "code",
   "execution_count": 47,
   "metadata": {},
   "outputs": [
    {
     "name": "stdout",
     "output_type": "stream",
     "text": [
      "Normal loop time: 0.00011512299988680752\n",
      "List comprehension time: 6.755499998689629e-05\n"
     ]
    }
   ],
   "source": [
    "import time\n",
    "start = time.perf_counter()\n",
    "some_list = []\n",
    "for i in range(1000):\n",
    "    some_list.append(i)\n",
    "mid = time.perf_counter()\n",
    "other_list=[i for i in range(1000)]\n",
    "stop = time.perf_counter()\n",
    "print(f\"Normal loop time: {mid-start}\")\n",
    "print(f\"List comprehension time: {stop-mid}\")"
   ]
  },
  {
   "cell_type": "markdown",
   "metadata": {},
   "source": [
    "# Unpacking iterables"
   ]
  },
  {
   "cell_type": "markdown",
   "metadata": {},
   "source": [
    "On of the most awesome features of python is automatic and manual unpacking of iterables."
   ]
  },
  {
   "cell_type": "markdown",
   "metadata": {},
   "source": [
    "Most people have probably seen code like this before."
   ]
  },
  {
   "cell_type": "code",
   "execution_count": 20,
   "metadata": {},
   "outputs": [
    {
     "data": {
      "text/plain": [
       "('y', 'x')"
      ]
     },
     "execution_count": 20,
     "metadata": {},
     "output_type": "execute_result"
    }
   ],
   "source": [
    "def switch(x,y):\n",
    "    return y,x\n",
    "x,y = switch(\"x\",\"y\")\n",
    "x,y"
   ]
  },
  {
   "cell_type": "markdown",
   "metadata": {},
   "source": [
    "In this case, switch returns a tuple which automatically unpacked into x and y. But did you know that you can unpack every kind of iterable?"
   ]
  },
  {
   "cell_type": "code",
   "execution_count": 22,
   "metadata": {},
   "outputs": [
    {
     "name": "stdout",
     "output_type": "stream",
     "text": [
      "0 1 2 3 4\n"
     ]
    }
   ],
   "source": [
    "a,b,c,d,e = range(5)\n",
    "a,b,c,d,e"
   ]
  },
  {
   "cell_type": "code",
   "execution_count": 48,
   "metadata": {},
   "outputs": [
    {
     "data": {
      "text/plain": [
       "('x', 'k', '3', '9')"
      ]
     },
     "execution_count": 48,
     "metadata": {},
     "output_type": "execute_result"
    }
   ],
   "source": [
    "a,b,c,d = {\"x\":1,\"k\":2,\"3\":5,\"9\":9}\n",
    "a,b,c,d"
   ]
  },
  {
   "cell_type": "code",
   "execution_count": 49,
   "metadata": {},
   "outputs": [
    {
     "data": {
      "text/plain": [
       "('l', 'e', 't', 't', 'e', 'r', 's')"
      ]
     },
     "execution_count": 49,
     "metadata": {},
     "output_type": "execute_result"
    }
   ],
   "source": [
    "l,e,t,t,e,r,s = \"letters\"\n",
    "l,e,t,t,e,r,s"
   ]
  },
  {
   "cell_type": "markdown",
   "metadata": {},
   "source": [
    "Just separating elements by comma actually automatically packs elements into a tuple, this in why return x,y works"
   ]
  },
  {
   "cell_type": "code",
   "execution_count": 30,
   "metadata": {},
   "outputs": [
    {
     "data": {
      "text/plain": [
       "(1, 2, 3, 4)"
      ]
     },
     "execution_count": 30,
     "metadata": {},
     "output_type": "execute_result"
    }
   ],
   "source": [
    "c = 1,2,3,4\n",
    "c"
   ]
  },
  {
   "cell_type": "markdown",
   "metadata": {},
   "source": [
    "We can also manually unpack lists to use their elements as multiple function parameters using an asterix *"
   ]
  },
  {
   "cell_type": "code",
   "execution_count": 32,
   "metadata": {},
   "outputs": [
    {
     "data": {
      "text/plain": [
       "(8, 5)"
      ]
     },
     "execution_count": 32,
     "metadata": {},
     "output_type": "execute_result"
    }
   ],
   "source": [
    "a = [5,8]\n",
    "switch(*a)"
   ]
  },
  {
   "cell_type": "markdown",
   "metadata": {},
   "source": [
    "Using 2 asterix \\*\\*, we can unpack a dictionary to specify keyword arguments"
   ]
  },
  {
   "cell_type": "code",
   "execution_count": 41,
   "metadata": {},
   "outputs": [
    {
     "name": "stdout",
     "output_type": "stream",
     "text": [
      "t=3, z=9, b=1\n"
     ]
    }
   ],
   "source": [
    "def print_vars(t=5,z=5,b=5):\n",
    "    print(f\"t={t}, z={z}, b={b}\")\n",
    "my_dict = {\"t\":3,\"z\":9,\"b\":1}\n",
    "print_vars(**my_dict)"
   ]
  },
  {
   "cell_type": "markdown",
   "metadata": {},
   "source": [
    "### This concept leads to \\*args and \\*\\*kwargs"
   ]
  },
  {
   "cell_type": "markdown",
   "metadata": {},
   "source": [
    "We can specify \\*args in the parameter head of functions to get a list of all positional parameters given, which where not specified otherwise."
   ]
  },
  {
   "cell_type": "code",
   "execution_count": 3,
   "metadata": {},
   "outputs": [
    {
     "name": "stdout",
     "output_type": "stream",
     "text": [
      "not in args: 2. In args (3, 4, 5)\n"
     ]
    }
   ],
   "source": [
    "def args_method(not_in_args,*args):\n",
    "    print(f\"not in args: {not_in_args}. In args {args}\")\n",
    "args_method(2,3,4,5)"
   ]
  },
  {
   "cell_type": "markdown",
   "metadata": {},
   "source": [
    "We can specify \\*\\*kwargs to instead get a dict of all not otherwise specified keyword arguments."
   ]
  },
  {
   "cell_type": "code",
   "execution_count": 5,
   "metadata": {},
   "outputs": [
    {
     "name": "stdout",
     "output_type": "stream",
     "text": [
      "pos_arg: x, key_arg:12, kwargs:{'a': 9, 'b': 12, 'c': 120}\n"
     ]
    }
   ],
   "source": [
    "def kwargs_method(pos_arg,key_arg=3,**kwargs):\n",
    "    print(f\"pos_arg: {pos_arg}, key_arg:{key_arg}, kwargs:{kwargs}\")\n",
    "kwargs_method(\"x\",key_arg=12,a=9,b=12,c=120)"
   ]
  },
  {
   "cell_type": "markdown",
   "metadata": {},
   "source": [
    "It should also be said, that calling these parameters args and kwargs is just a convention and the only important thing are the asterix \\*"
   ]
  },
  {
   "cell_type": "code",
   "execution_count": 7,
   "metadata": {},
   "outputs": [
    {
     "name": "stdout",
     "output_type": "stream",
     "text": [
      "a:('hello', 'pos', 4), b:{'t': 9, 'r': 40, 'w': 10}\n"
     ]
    }
   ],
   "source": [
    "def fun(*a,**b):\n",
    "    print(f\"a:{a}, b:{b}\")\n",
    "fun(\"hello\",\"pos\",4,t=9,r=40,w=10)"
   ]
  },
  {
   "cell_type": "markdown",
   "metadata": {},
   "source": [
    "Many times args and kwargs are just used to make the api of a function more convenient:"
   ]
  },
  {
   "cell_type": "code",
   "execution_count": 9,
   "metadata": {},
   "outputs": [
    {
     "data": {
      "text/plain": [
       "120"
      ]
     },
     "execution_count": 9,
     "metadata": {},
     "output_type": "execute_result"
    }
   ],
   "source": [
    "def multiply(*args):\n",
    "    start = 1\n",
    "    for arg in args:\n",
    "        start*=arg\n",
    "    return start\n",
    "multiply(2,3,4,5)"
   ]
  },
  {
   "cell_type": "markdown",
   "metadata": {},
   "source": [
    "kwargs is also a great tool, when it comes to inheriting from a class that uses a lot of keyword arguments in it's constructor."
   ]
  },
  {
   "cell_type": "code",
   "execution_count": 22,
   "metadata": {},
   "outputs": [],
   "source": [
    "class complicated_base_class:\n",
    "    def __init__(self,a=1,b=2,c=3,d=4,e=5,f=6,h=7,i=12):\n",
    "        pass #Do something complicated with those parameters, for example they\n",
    "             #could be hyperparameters for an algorithm"
   ]
  },
  {
   "cell_type": "markdown",
   "metadata": {},
   "source": [
    "Now we wan't to inherit from that base class and only change a little bit in the constructor and call the parent constructor for the rest."
   ]
  },
  {
   "cell_type": "code",
   "execution_count": 31,
   "metadata": {},
   "outputs": [],
   "source": [
    "class simple_sub_class(complicated_base_class):\n",
    "    def __init__(self,color,**kwargs):\n",
    "        self.color = color\n",
    "        super().__init__(**kwargs)"
   ]
  },
  {
   "cell_type": "markdown",
   "metadata": {},
   "source": [
    "# Using functions as variables and as parameters"
   ]
  },
  {
   "cell_type": "markdown",
   "metadata": {},
   "source": [
    "As python is a in parts functional programming language, functions can be used as variables, function parameters, return values etc. This is awesome, because we can write very high level functions using this stuff. For example there are modules out there that can take any function and find it's maximum using the empirical gradient. Lambda can be used to quickly create an anonymous function."
   ]
  },
  {
   "cell_type": "code",
   "execution_count": 33,
   "metadata": {},
   "outputs": [
    {
     "data": {
      "text/plain": [
       "(28, 21)"
      ]
     },
     "execution_count": 33,
     "metadata": {},
     "output_type": "execute_result"
    }
   ],
   "source": [
    "def get_multiplier_with(mult_with):\n",
    "    return lambda x:x*mult_with\n",
    "f = get_multiplier_with(7)\n",
    "f(4),f(3)"
   ]
  },
  {
   "cell_type": "markdown",
   "metadata": {},
   "source": [
    "Use function as parameter"
   ]
  },
  {
   "cell_type": "code",
   "execution_count": 35,
   "metadata": {},
   "outputs": [
    {
     "data": {
      "text/plain": [
       "[1, 2, 4, 8, 16, 32, 64, 128, 256, 512]"
      ]
     },
     "execution_count": 35,
     "metadata": {},
     "output_type": "execute_result"
    }
   ],
   "source": [
    "def use_on_range_of_args(func):\n",
    "    return [func(x) for x in range(10)]\n",
    "use_on_range_of_args(lambda x:1<<x)"
   ]
  },
  {
   "cell_type": "code",
   "execution_count": 38,
   "metadata": {},
   "outputs": [
    {
     "data": {
      "text/plain": [
       "[1.0,\n",
       " 0.5,\n",
       " 0.3333333333333333,\n",
       " 0.25,\n",
       " 0.2,\n",
       " 0.16666666666666666,\n",
       " 0.14285714285714285,\n",
       " 0.125,\n",
       " 0.1111111111111111,\n",
       " 0.1]"
      ]
     },
     "execution_count": 38,
     "metadata": {},
     "output_type": "execute_result"
    }
   ],
   "source": [
    "use_on_range_of_args(lambda x:1/(x+1))"
   ]
  },
  {
   "cell_type": "markdown",
   "metadata": {},
   "source": [
    "A very useful concept of when using functions as parameters are partial functions. For example we might have this function which depends on config and window, but could with these parameters fixed be maximized based on the rest of the parameters"
   ]
  },
  {
   "cell_type": "code",
   "execution_count": 45,
   "metadata": {},
   "outputs": [],
   "source": [
    "def get_fitness(config,window,x,y):\n",
    "    #Do something with config and window here.\n",
    "    return 2**(-x*config[\"x_multiplier\"]/y)"
   ]
  },
  {
   "cell_type": "markdown",
   "metadata": {},
   "source": [
    "We can use partial from functools to get a partial function that only depends on x and y"
   ]
  },
  {
   "cell_type": "code",
   "execution_count": 46,
   "metadata": {},
   "outputs": [
    {
     "data": {
      "text/plain": [
       "0.3535533905932738"
      ]
     },
     "execution_count": 46,
     "metadata": {},
     "output_type": "execute_result"
    }
   ],
   "source": [
    "from functools import partial\n",
    "to_maximize = partial(get_fitness,{\"x_multiplier\":2},\"win\")\n",
    "to_maximize(3,4)"
   ]
  },
  {
   "cell_type": "markdown",
   "metadata": {},
   "source": [
    "We could now pass that to_maximize function to an automatic empirical gradient maximizer"
   ]
  },
  {
   "cell_type": "markdown",
   "metadata": {},
   "source": [
    "# Random stuff"
   ]
  },
  {
   "cell_type": "markdown",
   "metadata": {},
   "source": [
    "Get a random string of lowercase letters"
   ]
  },
  {
   "cell_type": "code",
   "execution_count": 14,
   "metadata": {},
   "outputs": [
    {
     "data": {
      "text/plain": [
       "'spsmfqloot'"
      ]
     },
     "execution_count": 14,
     "metadata": {},
     "output_type": "execute_result"
    }
   ],
   "source": [
    "import string,random\n",
    "def random_string(length):\n",
    "    return ''.join(random.choice(string.ascii_lowercase) for _ in range(length))\n",
    "random_string(10)"
   ]
  },
  {
   "cell_type": "markdown",
   "metadata": {},
   "source": [
    "Let's say we have a list of strings and a list of numbers with aligned indicies with the numbers representing the fitness or value of the strings. Now we wan't to get the 3 strings with the highest value. In genetic algorithm these strings could for example represent genomes."
   ]
  },
  {
   "cell_type": "code",
   "execution_count": 13,
   "metadata": {},
   "outputs": [
    {
     "data": {
      "text/plain": [
       "(['rggexmdfaa',\n",
       "  'pvedhgvpqu',\n",
       "  'uewyyobpil',\n",
       "  'lyhmnxyvsb',\n",
       "  'fbogimpwjr',\n",
       "  'tyagwfubyw',\n",
       "  'wtlrdzfffv',\n",
       "  'ehqmqijvzx',\n",
       "  'ghimulwwsl',\n",
       "  'jvkwsgnryn'],\n",
       " [76, 18, 6, 50, 96, 55, 59, 28, 0, 11])"
      ]
     },
     "execution_count": 13,
     "metadata": {},
     "output_type": "execute_result"
    }
   ],
   "source": [
    "genomes = [random_string(10) for _ in range(10)]\n",
    "fitness = [random.randint(0,100) for _ in range(10)]\n",
    "genomes,fitness"
   ]
  },
  {
   "cell_type": "code",
   "execution_count": 5,
   "metadata": {},
   "outputs": [
    {
     "name": "stdout",
     "output_type": "stream",
     "text": [
      "[[97, 'mryysfgbel'], [84, 'kkaqwsajtd'], [57, 'lrinyokicc']]\n"
     ]
    }
   ],
   "source": [
    "best_3 = sorted([[fitness[i], genomes[i]] for i in range(len(genomes))], reverse=True)[:3]\n",
    "print(best_3)"
   ]
  },
  {
   "cell_type": "markdown",
   "metadata": {},
   "source": [
    "Calculate $2^{10}$ in a cool way"
   ]
  },
  {
   "cell_type": "code",
   "execution_count": 25,
   "metadata": {},
   "outputs": [
    {
     "data": {
      "text/plain": [
       "1024"
      ]
     },
     "execution_count": 25,
     "metadata": {},
     "output_type": "execute_result"
    }
   ],
   "source": [
    "1<<10"
   ]
  },
  {
   "cell_type": "markdown",
   "metadata": {},
   "source": [
    "You should probably know how to use filter and map/list comprehensions in python, but do you also know reduce?"
   ]
  },
  {
   "cell_type": "code",
   "execution_count": 29,
   "metadata": {},
   "outputs": [
    {
     "data": {
      "text/plain": [
       "[1, 2, 3, 4, 5]"
      ]
     },
     "execution_count": 29,
     "metadata": {},
     "output_type": "execute_result"
    }
   ],
   "source": [
    "from functools import reduce\n",
    "a = list(range(1,6))\n",
    "a"
   ]
  },
  {
   "cell_type": "markdown",
   "metadata": {},
   "source": [
    "Sadly, in python 3, reduce is not included in the standard package anymore and must be imported from functools. reduce in python is the equivalent, what is known as fold in some other functional languages. It takes a function of 2 parameters and folds an iterable from left to right (or right to left) by each combining the current value with the next in the iterable."
   ]
  },
  {
   "cell_type": "code",
   "execution_count": 30,
   "metadata": {},
   "outputs": [
    {
     "data": {
      "text/plain": [
       "120"
      ]
     },
     "execution_count": 30,
     "metadata": {},
     "output_type": "execute_result"
    }
   ],
   "source": [
    "reduce(lambda x,y:x*y,a)"
   ]
  },
  {
   "cell_type": "markdown",
   "metadata": {},
   "source": [
    "# Specific code blocks"
   ]
  },
  {
   "cell_type": "markdown",
   "metadata": {},
   "source": [
    "Let's look at one more arbitrary looking problem (which is inspired by a problem I had in some real project)\n",
    "We got a list of numbers and we wan't to iterate over it only once. We wan't to delete all elements divisible by 3 and store a tuple of each remaining number+1 together with it's new index."
   ]
  },
  {
   "cell_type": "code",
   "execution_count": 21,
   "metadata": {},
   "outputs": [
    {
     "name": "stdout",
     "output_type": "stream",
     "text": [
      "[5, 7, 14] [(6, 16), (1, 9), (0, 7)]\n"
     ]
    }
   ],
   "source": [
    "my_list=[5,7,12,15,24,18,14]\n",
    "index_tuples = []\n",
    "for i in range(len(my_list)-1,-1,-1):\n",
    "    if my_list[i]%3==0:\n",
    "        del my_list[i]\n",
    "    else:\n",
    "        index_tuples.append((i,my_list[i]+2))\n",
    "print(my_list,index_tuples)"
   ]
  },
  {
   "cell_type": "markdown",
   "metadata": {},
   "source": [
    "The backwards iterating method fails, as it stores the old indicies. The correct way is to use a while loop."
   ]
  },
  {
   "cell_type": "code",
   "execution_count": 23,
   "metadata": {},
   "outputs": [
    {
     "name": "stdout",
     "output_type": "stream",
     "text": [
      "[5, 7, 14] [(0, 7), (1, 9), (2, 16)]\n"
     ]
    }
   ],
   "source": [
    "my_list=[5,7,12,15,24,18,14]\n",
    "index_tuples = []\n",
    "i=0\n",
    "while i<len(my_list):\n",
    "    if my_list[i]%3==0:\n",
    "        del my_list[i]\n",
    "    else:\n",
    "        index_tuples.append((i,my_list[i]+2))\n",
    "        i+=1\n",
    "print(my_list,index_tuples)"
   ]
  }
 ],
 "metadata": {
  "kernelspec": {
   "display_name": "Python 3",
   "language": "python",
   "name": "python3"
  },
  "language_info": {
   "codemirror_mode": {
    "name": "ipython",
    "version": 3
   },
   "file_extension": ".py",
   "mimetype": "text/x-python",
   "name": "python",
   "nbconvert_exporter": "python",
   "pygments_lexer": "ipython3",
   "version": "3.7.3"
  }
 },
 "nbformat": 4,
 "nbformat_minor": 4
}
