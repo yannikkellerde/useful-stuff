{
 "cells": [
  {
   "cell_type": "markdown",
   "metadata": {},
   "source": [
    "# Insert a variable into a string"
   ]
  },
  {
   "cell_type": "code",
   "execution_count": 5,
   "metadata": {},
   "outputs": [],
   "source": [
    "i = 5\n",
    "m = [4,5,6]\n",
    "j = {\"j\":5,\"c\":8}"
   ]
  },
  {
   "cell_type": "markdown",
   "metadata": {},
   "source": [
    "Just trying to insert a variable with a + sign fail if the variable is not a string"
   ]
  },
  {
   "cell_type": "code",
   "execution_count": 3,
   "metadata": {},
   "outputs": [
    {
     "ename": "TypeError",
     "evalue": "can only concatenate str (not \"int\") to str",
     "output_type": "error",
     "traceback": [
      "\u001b[0;31m---------------------------------------------------------------------------\u001b[0m",
      "\u001b[0;31mTypeError\u001b[0m                                 Traceback (most recent call last)",
      "\u001b[0;32m<ipython-input-3-9aeb6b7d9c42>\u001b[0m in \u001b[0;36m<module>\u001b[0;34m\u001b[0m\n\u001b[0;32m----> 1\u001b[0;31m \u001b[0mprint\u001b[0m\u001b[0;34m(\u001b[0m\u001b[0;34m\"i:\"\u001b[0m\u001b[0;34m+\u001b[0m\u001b[0mi\u001b[0m\u001b[0;34m+\u001b[0m\u001b[0;34m\" m:\"\u001b[0m\u001b[0;34m+\u001b[0m\u001b[0mm\u001b[0m\u001b[0;34m+\u001b[0m\u001b[0;34m\" j:\"\u001b[0m\u001b[0;34m+\u001b[0m\u001b[0mj\u001b[0m\u001b[0;34m)\u001b[0m\u001b[0;34m\u001b[0m\u001b[0;34m\u001b[0m\u001b[0m\n\u001b[0m",
      "\u001b[0;31mTypeError\u001b[0m: can only concatenate str (not \"int\") to str"
     ]
    }
   ],
   "source": [
    "print(\"i:\"+i+\" m:\"+m+\" j:\"+j)"
   ]
  },
  {
   "cell_type": "markdown",
   "metadata": {},
   "source": [
    "The basic low tier solution is to just convert each var to string. This is very bad looking and error prone though."
   ]
  },
  {
   "cell_type": "code",
   "execution_count": 7,
   "metadata": {},
   "outputs": [
    {
     "name": "stdout",
     "output_type": "stream",
     "text": [
      "i:5 m:[4, 5, 6] j:{'j': 5, 'c': 8}\n"
     ]
    }
   ],
   "source": [
    "print(\"i:\"+str(i)+\" m:\"+str(m)+\" j:\"+str(j))"
   ]
  },
  {
   "cell_type": "markdown",
   "metadata": {},
   "source": [
    "Much nicer are f-strings"
   ]
  },
  {
   "cell_type": "code",
   "execution_count": 8,
   "metadata": {},
   "outputs": [
    {
     "name": "stdout",
     "output_type": "stream",
     "text": [
      "i: 5 m:[4, 5, 6] j:{'j': 5, 'c': 8}\n"
     ]
    }
   ],
   "source": [
    "print(f\"i: {i} m:{m} j:{j}\")"
   ]
  },
  {
   "cell_type": "markdown",
   "metadata": {},
   "source": [
    "When inserting different vars into the same string, use format"
   ]
  },
  {
   "cell_type": "code",
   "execution_count": 9,
   "metadata": {},
   "outputs": [
    {
     "name": "stdout",
     "output_type": "stream",
     "text": [
      "my_favorite_var is 5\n",
      "my_favorite_var is [4, 5, 6]\n"
     ]
    }
   ],
   "source": [
    "some_str = \"my_favorite_var is {}\"\n",
    "print(some_str.format(i))\n",
    "print(some_str.format(m))"
   ]
  },
  {
   "cell_type": "markdown",
   "metadata": {},
   "source": [
    "# Deleting multiple elements with specific properties from list"
   ]
  },
  {
   "cell_type": "markdown",
   "metadata": {},
   "source": [
    "let's say we wan't to delete every element from a list divisible by 3. A common way to go wrong is like so:"
   ]
  },
  {
   "cell_type": "code",
   "execution_count": 13,
   "metadata": {},
   "outputs": [
    {
     "ename": "IndexError",
     "evalue": "list index out of range",
     "output_type": "error",
     "traceback": [
      "\u001b[0;31m---------------------------------------------------------------------------\u001b[0m",
      "\u001b[0;31mIndexError\u001b[0m                                Traceback (most recent call last)",
      "\u001b[0;32m<ipython-input-13-5ad81f15cad2>\u001b[0m in \u001b[0;36m<module>\u001b[0;34m\u001b[0m\n\u001b[1;32m      1\u001b[0m \u001b[0mmy_list\u001b[0m\u001b[0;34m=\u001b[0m\u001b[0;34m[\u001b[0m\u001b[0;36m5\u001b[0m\u001b[0;34m,\u001b[0m\u001b[0;36m7\u001b[0m\u001b[0;34m,\u001b[0m\u001b[0;36m12\u001b[0m\u001b[0;34m,\u001b[0m\u001b[0;36m15\u001b[0m\u001b[0;34m,\u001b[0m\u001b[0;36m24\u001b[0m\u001b[0;34m,\u001b[0m\u001b[0;36m18\u001b[0m\u001b[0;34m,\u001b[0m\u001b[0;36m14\u001b[0m\u001b[0;34m]\u001b[0m\u001b[0;34m\u001b[0m\u001b[0;34m\u001b[0m\u001b[0m\n\u001b[1;32m      2\u001b[0m \u001b[0;32mfor\u001b[0m \u001b[0mi\u001b[0m \u001b[0;32min\u001b[0m \u001b[0mrange\u001b[0m\u001b[0;34m(\u001b[0m\u001b[0mlen\u001b[0m\u001b[0;34m(\u001b[0m\u001b[0mmy_list\u001b[0m\u001b[0;34m)\u001b[0m\u001b[0;34m)\u001b[0m\u001b[0;34m:\u001b[0m\u001b[0;34m\u001b[0m\u001b[0;34m\u001b[0m\u001b[0m\n\u001b[0;32m----> 3\u001b[0;31m     \u001b[0;32mif\u001b[0m \u001b[0mmy_list\u001b[0m\u001b[0;34m[\u001b[0m\u001b[0mi\u001b[0m\u001b[0;34m]\u001b[0m\u001b[0;34m%\u001b[0m\u001b[0;36m3\u001b[0m\u001b[0;34m==\u001b[0m\u001b[0;36m0\u001b[0m\u001b[0;34m:\u001b[0m\u001b[0;34m\u001b[0m\u001b[0;34m\u001b[0m\u001b[0m\n\u001b[0m\u001b[1;32m      4\u001b[0m         \u001b[0;32mdel\u001b[0m \u001b[0mmy_list\u001b[0m\u001b[0;34m[\u001b[0m\u001b[0mi\u001b[0m\u001b[0;34m]\u001b[0m\u001b[0;34m\u001b[0m\u001b[0;34m\u001b[0m\u001b[0m\n",
      "\u001b[0;31mIndexError\u001b[0m: list index out of range"
     ]
    }
   ],
   "source": [
    "my_list=[5,7,12,15,24,18,14]\n",
    "for i in range(len(my_list)):\n",
    "    if my_list[i]%3==0:\n",
    "        del my_list[i]"
   ]
  },
  {
   "cell_type": "markdown",
   "metadata": {},
   "source": [
    "We shortened the list while iterating over it and `len(my_list)` is only evaluated at the start of the loop, so we run out of range."
   ]
  },
  {
   "cell_type": "markdown",
   "metadata": {},
   "source": [
    "The obvious correct way to do it in this simle case is to use filter"
   ]
  },
  {
   "cell_type": "code",
   "execution_count": 35,
   "metadata": {},
   "outputs": [
    {
     "name": "stdout",
     "output_type": "stream",
     "text": [
      "[5, 7, 14]\n"
     ]
    }
   ],
   "source": [
    "my_list=[5,7,12,15,24,18,14]\n",
    "no_3_divisors = list(filter(lambda x:x%3!=0,my_list))\n",
    "print(no_3_divisors)"
   ]
  },
  {
   "cell_type": "markdown",
   "metadata": {},
   "source": [
    "If we wan't to instead just remove duplicates from a list and don't care about the sequence we can do"
   ]
  },
  {
   "cell_type": "code",
   "execution_count": 44,
   "metadata": {},
   "outputs": [
    {
     "name": "stdout",
     "output_type": "stream",
     "text": [
      "[1, 3, 4, 6, 7, 8]\n"
     ]
    }
   ],
   "source": [
    "my_list = [3,6,7,7,4,3,8,1,6]\n",
    "print(list(set(my_list)))"
   ]
  },
  {
   "cell_type": "markdown",
   "metadata": {},
   "source": [
    "Sometimes, we might be in a more rough position that can't be solved that easily just using these methods. If we wan't to delete duplicates and do care about sequence or if we have 2 lists with aligned indicies and we wan't to remove elements with index 3 and still keep the index alignment, we can be tricky and iterate backwards over the list."
   ]
  },
  {
   "cell_type": "code",
   "execution_count": 19,
   "metadata": {},
   "outputs": [
    {
     "name": "stdout",
     "output_type": "stream",
     "text": [
      "['n5', 'n7', 'n14'] [5, 7, 14]\n"
     ]
    }
   ],
   "source": [
    "element_names = [\"n5\",\"n7\",\"n12\",\"n15\",\"n24\",\"n18\",\"n14\"]\n",
    "my_list=[5,7,12,15,24,18,14]\n",
    "for i in range(len(my_list)-1,-1,-1):\n",
    "    if my_list[i]%3==0:\n",
    "        del my_list[i]\n",
    "        del element_names[i]\n",
    "print(element_names,my_list)"
   ]
  },
  {
   "cell_type": "markdown",
   "metadata": {},
   "source": [
    "Let's look at one more arbitrary looking problem (which is inspired by a problem I had in some real project)\n",
    "We got a list of numbers and we wan't to iterate over it only once. We wan't to delete all elements divisible by 3 and store a tuple of each remaining number+1 together with it's new index."
   ]
  },
  {
   "cell_type": "code",
   "execution_count": 21,
   "metadata": {},
   "outputs": [
    {
     "name": "stdout",
     "output_type": "stream",
     "text": [
      "[5, 7, 14] [(6, 16), (1, 9), (0, 7)]\n"
     ]
    }
   ],
   "source": [
    "my_list=[5,7,12,15,24,18,14]\n",
    "index_tuples = []\n",
    "for i in range(len(my_list)-1,-1,-1):\n",
    "    if my_list[i]%3==0:\n",
    "        del my_list[i]\n",
    "    else:\n",
    "        index_tuples.append((i,my_list[i]+2))\n",
    "print(my_list,index_tuples)"
   ]
  },
  {
   "cell_type": "markdown",
   "metadata": {},
   "source": [
    "The backwards iterating method fails, as it stores the old indicies. The correct way is to use a while loop."
   ]
  },
  {
   "cell_type": "code",
   "execution_count": 23,
   "metadata": {},
   "outputs": [
    {
     "name": "stdout",
     "output_type": "stream",
     "text": [
      "[5, 7, 14] [(0, 7), (1, 9), (2, 16)]\n"
     ]
    }
   ],
   "source": [
    "my_list=[5,7,12,15,24,18,14]\n",
    "index_tuples = []\n",
    "i=0\n",
    "while i<len(my_list):\n",
    "    if my_list[i]%3==0:\n",
    "        del my_list[i]\n",
    "    else:\n",
    "        index_tuples.append((i,my_list[i]+2))\n",
    "        i+=1\n",
    "print(my_list,index_tuples)"
   ]
  },
  {
   "cell_type": "markdown",
   "metadata": {},
   "source": [
    "# Smart ways to iterate with for loops"
   ]
  },
  {
   "cell_type": "markdown",
   "metadata": {},
   "source": [
    "Iterate over 2d list and get all elements back"
   ]
  },
  {
   "cell_type": "code",
   "execution_count": 25,
   "metadata": {},
   "outputs": [
    {
     "name": "stdout",
     "output_type": "stream",
     "text": [
      "3 5 7\n",
      "19 4 3\n",
      "40 13 11\n"
     ]
    }
   ],
   "source": [
    "my_list = [[3,5,7],[19,4,3],[40,13,11]]\n",
    "for x,y,z in my_list:\n",
    "    print(x,y,z)"
   ]
  },
  {
   "cell_type": "markdown",
   "metadata": {},
   "source": [
    "get both element and index of element"
   ]
  },
  {
   "cell_type": "code",
   "execution_count": 27,
   "metadata": {},
   "outputs": [
    {
     "name": "stdout",
     "output_type": "stream",
     "text": [
      "0 a\n",
      "1 b\n",
      "2 c\n"
     ]
    }
   ],
   "source": [
    "my_list = [\"a\",\"b\",\"c\"]\n",
    "for i,elem in enumerate(my_list):\n",
    "    print(i,elem)"
   ]
  },
  {
   "cell_type": "markdown",
   "metadata": {},
   "source": [
    "Iterate list elements in reversed order"
   ]
  },
  {
   "cell_type": "code",
   "execution_count": 29,
   "metadata": {},
   "outputs": [
    {
     "name": "stdout",
     "output_type": "stream",
     "text": [
      "c\n",
      "b\n",
      "a\n"
     ]
    }
   ],
   "source": [
    "my_list = [\"a\",\"b\",\"c\"]\n",
    "for elem in reversed(my_list):\n",
    "    print(elem)"
   ]
  },
  {
   "cell_type": "markdown",
   "metadata": {},
   "source": [
    "Iterate over key and value of dictionary directly"
   ]
  },
  {
   "cell_type": "code",
   "execution_count": 32,
   "metadata": {},
   "outputs": [
    {
     "name": "stdout",
     "output_type": "stream",
     "text": [
      "blub 4\n",
      "x 8\n",
      "t 9\n"
     ]
    }
   ],
   "source": [
    "my_dict = {\"blub\":4,\"x\":8,\"t\":9}\n",
    "for key,value in my_dict.items():\n",
    "    print(key,value)"
   ]
  },
  {
   "cell_type": "markdown",
   "metadata": {},
   "source": [
    "An important think to remember is, that in python you can't only iterate over lists, but over all so called iterables. These include for example strings,tuples,sets,dictionarys and many more."
   ]
  },
  {
   "cell_type": "code",
   "execution_count": 34,
   "metadata": {},
   "outputs": [
    {
     "name": "stdout",
     "output_type": "stream",
     "text": [
      "h\n",
      "e\n",
      "l\n",
      "l\n",
      "o\n"
     ]
    }
   ],
   "source": [
    "for letter in \"hello\":\n",
    "    print(letter)"
   ]
  },
  {
   "cell_type": "markdown",
   "metadata": {},
   "source": [
    "# List comprehensions are awesome"
   ]
  },
  {
   "cell_type": "markdown",
   "metadata": {},
   "source": [
    "Create complicated lists so efficiently, you will never have to use map again."
   ]
  },
  {
   "cell_type": "code",
   "execution_count": 47,
   "metadata": {},
   "outputs": [
    {
     "name": "stdout",
     "output_type": "stream",
     "text": [
      "[1, 2, 4, 8, 16, 32, 64, 128, 256, 512, 1024]\n"
     ]
    }
   ],
   "source": [
    "first_list = [2**i for i in range(11)]\n",
    "print(first_list)"
   ]
  },
  {
   "cell_type": "markdown",
   "metadata": {},
   "source": [
    "If you don't care too much about \"clean\" code, there is nothing wrong with using multiple list comprehensions to create amazing 2d list in one line"
   ]
  },
  {
   "cell_type": "code",
   "execution_count": 50,
   "metadata": {},
   "outputs": [
    {
     "name": "stdout",
     "output_type": "stream",
     "text": [
      "[[1024, 512, 256, 128, 64, 32, 16, 8, 4, 2, 1], [2048, 1024, 512, 256, 128, 64, 32, 16, 8, 4, 2], [4096, 2048, 1024, 512, 256, 128, 64, 32, 16, 8, 4], [8192, 4096, 2048, 1024, 512, 256, 128, 64, 32, 16, 8], [16384, 8192, 4096, 2048, 1024, 512, 256, 128, 64, 32, 16], [32768, 16384, 8192, 4096, 2048, 1024, 512, 256, 128, 64, 32], [65536, 32768, 16384, 8192, 4096, 2048, 1024, 512, 256, 128, 64], [131072, 65536, 32768, 16384, 8192, 4096, 2048, 1024, 512, 256, 128], [262144, 131072, 65536, 32768, 16384, 8192, 4096, 2048, 1024, 512, 256], [524288, 262144, 131072, 65536, 32768, 16384, 8192, 4096, 2048, 1024, 512], [1048576, 524288, 262144, 131072, 65536, 32768, 16384, 8192, 4096, 2048, 1024]]\n"
     ]
    }
   ],
   "source": [
    "list_2d = [[i*j for j in reversed(first_list)] for i in first_list]\n",
    "print(list_2d)"
   ]
  },
  {
   "cell_type": "markdown",
   "metadata": {},
   "source": [
    "When writing runtime efficient code it is actually important to notice that list comprehensions can be up to twice as fast as normal for loops"
   ]
  },
  {
   "cell_type": "code",
   "execution_count": 43,
   "metadata": {},
   "outputs": [
    {
     "name": "stdout",
     "output_type": "stream",
     "text": [
      "Normal loop time: 0.00014250300046114717\n",
      "List comprehension time: 7.041499975457555e-05\n"
     ]
    }
   ],
   "source": [
    "import time\n",
    "start = time.perf_counter()\n",
    "some_list = []\n",
    "for i in range(1000):\n",
    "    some_list.append(i)\n",
    "mid = time.perf_counter()\n",
    "other_list=[i for i in range(1000)]\n",
    "stop = time.perf_counter()\n",
    "print(f\"Normal loop time: {mid-start}\")\n",
    "print(f\"List comprehension time: {stop-mid}\")"
   ]
  },
  {
   "cell_type": "markdown",
   "metadata": {},
   "source": [
    "# Random stuff"
   ]
  },
  {
   "cell_type": "markdown",
   "metadata": {},
   "source": [
    "Get a random string of lowercase letters"
   ]
  },
  {
   "cell_type": "code",
   "execution_count": 53,
   "metadata": {},
   "outputs": [
    {
     "name": "stdout",
     "output_type": "stream",
     "text": [
      "uhbofqmbua\n"
     ]
    }
   ],
   "source": [
    "import string,random\n",
    "def random_string(length):\n",
    "    return ''.join(random.choice(string.ascii_lowercase) for _ in range(length))\n",
    "print(random_string(10))"
   ]
  },
  {
   "cell_type": "markdown",
   "metadata": {},
   "source": [
    "Let's say we have a list of strings and a list of numbers with aligned indicies with the numbers representing the fitness or value of the strings. Now we wan't to get the 3 strings with the highest value. In genetic algorithm these strings could for example represent genomes."
   ]
  },
  {
   "cell_type": "code",
   "execution_count": 55,
   "metadata": {},
   "outputs": [
    {
     "name": "stdout",
     "output_type": "stream",
     "text": [
      "['ruavuyjayw', 'tkejzlaupm', 'wdvzhotanx', 'vtsuhvhufu', 'tadywhrdpv', 'bspzkzogkb', 'irdcbavoxm', 'vqwccuqrgd', 'gvhuzyfnqa', 'zncsflyoyi'] [50, 69, 11, 2, 81, 47, 100, 47, 83, 86]\n"
     ]
    }
   ],
   "source": [
    "genomes = [random_string(10) for _ in range(10)]\n",
    "fitness = [random.randint(0,100) for _ in range(10)]\n",
    "print(genomes,fitness)"
   ]
  },
  {
   "cell_type": "code",
   "execution_count": 58,
   "metadata": {},
   "outputs": [
    {
     "name": "stdout",
     "output_type": "stream",
     "text": [
      "[[100, 'irdcbavoxm'], [86, 'zncsflyoyi'], [83, 'gvhuzyfnqa']]\n"
     ]
    }
   ],
   "source": [
    "best_3 = sorted([[fitness[i], genomes[i]] for i in range(len(genomes))], reverse=True)[:3]\n",
    "print(best_3)"
   ]
  }
 ],
 "metadata": {
  "kernelspec": {
   "display_name": "Python 3",
   "language": "python",
   "name": "python3"
  },
  "language_info": {
   "codemirror_mode": {
    "name": "ipython",
    "version": 3
   },
   "file_extension": ".py",
   "mimetype": "text/x-python",
   "name": "python",
   "nbconvert_exporter": "python",
   "pygments_lexer": "ipython3",
   "version": "3.7.3"
  }
 },
 "nbformat": 4,
 "nbformat_minor": 4
}
